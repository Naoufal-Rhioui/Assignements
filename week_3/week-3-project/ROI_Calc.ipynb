{
 "cells": [
  {
   "cell_type": "code",
   "execution_count": 1,
   "metadata": {},
   "outputs": [
    {
     "name": "stdout",
     "output_type": "stream",
     "text": [
      "Welcome to ROI Calculator. You will be asked a series of questions in order to get a precise cash on cash ROI\n",
      "How much your rental income?2000\n",
      "How much do you charge for laundry?0\n",
      "How much do you charge for storage?0\n",
      "This is your total income: $2000\n",
      "How much is your monthly tax?150\n",
      "How much is your monthly home insurance?100\n",
      "How much do you pay for utilities monthly ?0\n",
      "How much your monthly HOA?0\n",
      "How much do you pay for lawn/snow services monthly?0\n",
      "How much is your monthly vacancy?100\n",
      "How much is the monthly cost of repairs?100\n",
      "How much is your capex?100\n",
      "How much do you pay monthly for your property management?200\n",
      "How much is your monthly mortgage?860\n",
      "This is your total expenses: $1610\n",
      "How much your down payment?40000\n",
      "How much your closing cost?3000\n",
      "How much your rehab budget?7000\n",
      "This is your total cash invested: $50000\n",
      "Your ROI: $9.36%\n"
     ]
    }
   ],
   "source": [
    "class ROI_Calc():\n",
    "    \n",
    "    def __init__(self):\n",
    "        print(\"Welcome to ROI Calculator. You will be asked a series of questions in order to get a precise cash on cash ROI\")\n",
    "    \n",
    "        \n",
    "    def capital(self):\n",
    "        down_payment = int(input(\"How much your down payment?\"))\n",
    "        closing_cost = int(input(\"How much your closing cost?\"))\n",
    "        rehab_budget = int(input(\"How much your rehab budget?\"))\n",
    "        capital_invested = down_payment + closing_cost + rehab_budget\n",
    "        print(f\"This is your total cash invested: ${capital_invested}\")\n",
    "        return capital_invested\n",
    "    \n",
    "    def income(self):\n",
    "        rental = int(input(\"How much your rental income?\"))\n",
    "        laundry = int(input(\"How much do you charge for laundry?\"))\n",
    "        storage = int(input(\"How much do you charge for storage?\"))\n",
    "        total_income = rental + laundry + storage\n",
    "        print(f\"This is your total income: ${total_income}\")\n",
    "        return total_income\n",
    "    \n",
    "    def expenses(self):\n",
    "        tax = int(input(\"How much is your monthly tax?\"))\n",
    "        insurance = int(input(\"How much is your monthly home insurance?\"))\n",
    "        utilities = int(input(\"How much do you pay for utilities monthly ?\"))\n",
    "        HOA = int(input(\"How much your monthly HOA?\"))\n",
    "        lawn_snow = int(input(\"How much do you pay for lawn/snow services monthly?\"))\n",
    "        vacancy = int(input(\"How much is your monthly vacancy?\"))\n",
    "        repairs = int(input(\"How much is the monthly cost of repairs?\"))\n",
    "        capex = int(input(\"How much is your capex?\"))\n",
    "        property_management = int(input(\"How much do you pay monthly for your property management?\"))\n",
    "        mortgage = int(input(\"How much is your monthly mortgage?\"))\n",
    "        total_expenses = tax + insurance + utilities + HOA + lawn_snow + vacancy + repairs + capex + property_management + mortgage\n",
    "        print(f\"This is your total expenses: ${total_expenses}\")\n",
    "        return total_expenses\n",
    "        \n",
    "    def ROI(self):\n",
    "        monthly_cash_flow = self.income() - self.expenses()\n",
    "        roi = monthly_cash_flow *12 / self.capital() * 100\n",
    "        print(f\"Your ROI: ${roi}%\")\n",
    "\n",
    "\n",
    "def RunROI():\n",
    "    run = ROI_Calc()\n",
    "    run.ROI()\n",
    "   \n",
    "RunROI()"
   ]
  },
  {
   "cell_type": "code",
   "execution_count": null,
   "metadata": {},
   "outputs": [],
   "source": []
  }
 ],
 "metadata": {
  "kernelspec": {
   "display_name": "Python 3",
   "language": "python",
   "name": "python3"
  },
  "language_info": {
   "codemirror_mode": {
    "name": "ipython",
    "version": 3
   },
   "file_extension": ".py",
   "mimetype": "text/x-python",
   "name": "python",
   "nbconvert_exporter": "python",
   "pygments_lexer": "ipython3",
   "version": "3.6.4"
  }
 },
 "nbformat": 4,
 "nbformat_minor": 2
}
